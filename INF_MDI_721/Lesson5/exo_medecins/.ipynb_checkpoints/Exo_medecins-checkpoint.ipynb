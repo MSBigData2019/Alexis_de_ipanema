{
 "cells": [
  {
   "cell_type": "code",
   "execution_count": 1,
   "metadata": {},
   "outputs": [
    {
     "data": {
      "text/html": [
       "<div>\n",
       "<style scoped>\n",
       "    .dataframe tbody tr th:only-of-type {\n",
       "        vertical-align: middle;\n",
       "    }\n",
       "\n",
       "    .dataframe tbody tr th {\n",
       "        vertical-align: top;\n",
       "    }\n",
       "\n",
       "    .dataframe thead th {\n",
       "        text-align: right;\n",
       "    }\n",
       "</style>\n",
       "<table border=\"1\" class=\"dataframe\">\n",
       "  <thead>\n",
       "    <tr style=\"text-align: right;\">\n",
       "      <th></th>\n",
       "      <th>Spécialistes</th>\n",
       "      <th>DEPARTEMENT</th>\n",
       "      <th>EFFECTIFS</th>\n",
       "      <th>HONORAIRES SANS DEPASSEMENT (Euros)</th>\n",
       "      <th>DEPASSEMENTS (Euros)</th>\n",
       "      <th>FRAIS DE DEPLACEMENT (Euros)</th>\n",
       "      <th>TOTAL DES HONORAIRES (Euros)</th>\n",
       "    </tr>\n",
       "  </thead>\n",
       "  <tbody>\n",
       "    <tr>\n",
       "      <th>0</th>\n",
       "      <td>02- Anesthésie-réanimation chirurgicale</td>\n",
       "      <td>01- Ain</td>\n",
       "      <td>17</td>\n",
       "      <td>4.53008e+06</td>\n",
       "      <td>2.49618e+06</td>\n",
       "      <td>0</td>\n",
       "      <td>7.02626e+06</td>\n",
       "    </tr>\n",
       "    <tr>\n",
       "      <th>1</th>\n",
       "      <td>02- Anesthésie-réanimation chirurgicale</td>\n",
       "      <td>02- Aisne</td>\n",
       "      <td>19</td>\n",
       "      <td>4.98526e+06</td>\n",
       "      <td>373838</td>\n",
       "      <td>0</td>\n",
       "      <td>5.3591e+06</td>\n",
       "    </tr>\n",
       "    <tr>\n",
       "      <th>2</th>\n",
       "      <td>02- Anesthésie-réanimation chirurgicale</td>\n",
       "      <td>03- Allier</td>\n",
       "      <td>19</td>\n",
       "      <td>5.1029e+06</td>\n",
       "      <td>560979</td>\n",
       "      <td>0</td>\n",
       "      <td>5.66388e+06</td>\n",
       "    </tr>\n",
       "    <tr>\n",
       "      <th>3</th>\n",
       "      <td>02- Anesthésie-réanimation chirurgicale</td>\n",
       "      <td>04- Alpes-Hte-Provence</td>\n",
       "      <td>4</td>\n",
       "      <td>nc</td>\n",
       "      <td>nc</td>\n",
       "      <td>nc</td>\n",
       "      <td>nc</td>\n",
       "    </tr>\n",
       "    <tr>\n",
       "      <th>4</th>\n",
       "      <td>02- Anesthésie-réanimation chirurgicale</td>\n",
       "      <td>05- Hautes-Alpes</td>\n",
       "      <td>5</td>\n",
       "      <td>nc</td>\n",
       "      <td>nc</td>\n",
       "      <td>nc</td>\n",
       "      <td>nc</td>\n",
       "    </tr>\n",
       "  </tbody>\n",
       "</table>\n",
       "</div>"
      ],
      "text/plain": [
       "                              Spécialistes             DEPARTEMENT  EFFECTIFS  \\\n",
       "0  02- Anesthésie-réanimation chirurgicale                 01- Ain         17   \n",
       "1  02- Anesthésie-réanimation chirurgicale               02- Aisne         19   \n",
       "2  02- Anesthésie-réanimation chirurgicale              03- Allier         19   \n",
       "3  02- Anesthésie-réanimation chirurgicale  04- Alpes-Hte-Provence          4   \n",
       "4  02- Anesthésie-réanimation chirurgicale        05- Hautes-Alpes          5   \n",
       "\n",
       "  HONORAIRES SANS DEPASSEMENT (Euros) DEPASSEMENTS (Euros)  \\\n",
       "0                         4.53008e+06          2.49618e+06   \n",
       "1                         4.98526e+06               373838   \n",
       "2                          5.1029e+06               560979   \n",
       "3                                  nc                   nc   \n",
       "4                                  nc                   nc   \n",
       "\n",
       "  FRAIS DE DEPLACEMENT (Euros) TOTAL DES HONORAIRES (Euros)  \n",
       "0                            0                  7.02626e+06  \n",
       "1                            0                   5.3591e+06  \n",
       "2                            0                  5.66388e+06  \n",
       "3                           nc                           nc  \n",
       "4                           nc                           nc  "
      ]
     },
     "execution_count": 1,
     "metadata": {},
     "output_type": "execute_result"
    }
   ],
   "source": [
    "import pandas as pd\n",
    "import re\n",
    "import numpy as np\n",
    "\n",
    "df_specialistes = pd.read_excel('/home/alexis/exo_medecins/Honoraires_totaux_des_professionnels_de_sante_par_departement_en_2016.xls',sheet_name=2)\n",
    "df_generalistes_MEp = pd.read_excel('/home/alexis/exo_medecins/Honoraires_totaux_des_professionnels_de_sante_par_departement_en_2016.xls',sheet_name=3)\n",
    "\n",
    "df_specialistes.head()"
   ]
  },
  {
   "cell_type": "code",
   "execution_count": 2,
   "metadata": {},
   "outputs": [
    {
     "data": {
      "text/html": [
       "<div>\n",
       "<style scoped>\n",
       "    .dataframe tbody tr th:only-of-type {\n",
       "        vertical-align: middle;\n",
       "    }\n",
       "\n",
       "    .dataframe tbody tr th {\n",
       "        vertical-align: top;\n",
       "    }\n",
       "\n",
       "    .dataframe thead th {\n",
       "        text-align: right;\n",
       "    }\n",
       "</style>\n",
       "<table border=\"1\" class=\"dataframe\">\n",
       "  <thead>\n",
       "    <tr style=\"text-align: right;\">\n",
       "      <th></th>\n",
       "      <th>Département / No / Région</th>\n",
       "      <th>Superficie [en km²]</th>\n",
       "      <th>Population</th>\n",
       "      <th>Densite [hab. /km²]</th>\n",
       "    </tr>\n",
       "  </thead>\n",
       "  <tbody>\n",
       "    <tr>\n",
       "      <th>0</th>\n",
       "      <td>Guyane  (973)  [Guyane]</td>\n",
       "      <td>86 504</td>\n",
       "      <td>230 000</td>\n",
       "      <td>4</td>\n",
       "    </tr>\n",
       "    <tr>\n",
       "      <th>1</th>\n",
       "      <td>Gironde  (33)  [Aquitaine]</td>\n",
       "      <td>10 000</td>\n",
       "      <td>1 376 000</td>\n",
       "      <td>138</td>\n",
       "    </tr>\n",
       "    <tr>\n",
       "      <th>2</th>\n",
       "      <td>Landes  (40)  [Aquitaine]</td>\n",
       "      <td>9 243</td>\n",
       "      <td>327 334</td>\n",
       "      <td>35</td>\n",
       "    </tr>\n",
       "    <tr>\n",
       "      <th>3</th>\n",
       "      <td>Dordogne  (24)  [Aquitaine]</td>\n",
       "      <td>9 060</td>\n",
       "      <td>401 500</td>\n",
       "      <td>43</td>\n",
       "    </tr>\n",
       "    <tr>\n",
       "      <th>4</th>\n",
       "      <td>Côte-d'Or  (21)  [Bourgogne]</td>\n",
       "      <td>8 763</td>\n",
       "      <td>506 755</td>\n",
       "      <td>58</td>\n",
       "    </tr>\n",
       "  </tbody>\n",
       "</table>\n",
       "</div>"
      ],
      "text/plain": [
       "      Département / No / Région Superficie [en km²] Population  \\\n",
       "0       Guyane  (973)  [Guyane]              86 504    230 000   \n",
       "1    Gironde  (33)  [Aquitaine]              10 000  1 376 000   \n",
       "2     Landes  (40)  [Aquitaine]               9 243    327 334   \n",
       "3   Dordogne  (24)  [Aquitaine]               9 060    401 500   \n",
       "4  Côte-d'Or  (21)  [Bourgogne]               8 763    506 755   \n",
       "\n",
       "  Densite [hab. /km²]  \n",
       "0                   4  \n",
       "1                 138  \n",
       "2                  35  \n",
       "3                  43  \n",
       "4                  58  "
      ]
     },
     "execution_count": 2,
     "metadata": {},
     "output_type": "execute_result"
    }
   ],
   "source": [
    "df_regions = pd.read_html(\"http://france.ousuisje.com/departements/classement/superficie.php\")[0]\n",
    "\n",
    "df_regions.head()"
   ]
  },
  {
   "cell_type": "code",
   "execution_count": 3,
   "metadata": {},
   "outputs": [],
   "source": [
    "def departement_to_number(text):\n",
    "    pattern = r'\\d{2}'\n",
    "    regex = re.compile(pattern)\n",
    "    m = regex.search(text)\n",
    "    if (m is None):\n",
    "        return(np.nan)\n",
    "    else:\n",
    "        cleaned_text = m.group(0)\n",
    "        return(int(cleaned_text))"
   ]
  },
  {
   "cell_type": "code",
   "execution_count": 4,
   "metadata": {},
   "outputs": [],
   "source": [
    "df_regions = df_regions.rename(index=str, columns={\"Département / No / Région\": \"Departement\"})"
   ]
  },
  {
   "cell_type": "code",
   "execution_count": 5,
   "metadata": {},
   "outputs": [],
   "source": [
    "liste = list(range(1,99))"
   ]
  },
  {
   "cell_type": "code",
   "execution_count": 6,
   "metadata": {},
   "outputs": [],
   "source": [
    "df_regions[\"Departement\"] = df_regions[\"Departement\"].map(departement_to_number)"
   ]
  },
  {
   "cell_type": "code",
   "execution_count": 7,
   "metadata": {},
   "outputs": [
    {
     "data": {
      "text/plain": [
       "79   NaN\n",
       "84   NaN\n",
       "Name: Departement, dtype: float64"
      ]
     },
     "execution_count": 7,
     "metadata": {},
     "output_type": "execute_result"
    }
   ],
   "source": [
    "df_regions[\"Departement\"][df_regions[\"Departement\"].isin(liste) == False]"
   ]
  },
  {
   "cell_type": "code",
   "execution_count": 8,
   "metadata": {},
   "outputs": [],
   "source": [
    "df_regions_original = pd.read_html(\"http://france.ousuisje.com/departements/classement/superficie.php\")[0]"
   ]
  },
  {
   "cell_type": "code",
   "execution_count": 9,
   "metadata": {},
   "outputs": [
    {
     "data": {
      "text/plain": [
       "Département / No / Région    Haute-Corse  (2B)  [Corse]\n",
       "Superficie [en km²]                               4 666\n",
       "Population                                      148 000\n",
       "Densite [hab. /km²]                                  30\n",
       "Name: 79, dtype: object"
      ]
     },
     "execution_count": 9,
     "metadata": {},
     "output_type": "execute_result"
    }
   ],
   "source": [
    "df_regions_original.iloc[79]"
   ]
  },
  {
   "cell_type": "code",
   "execution_count": 10,
   "metadata": {},
   "outputs": [
    {
     "data": {
      "text/plain": [
       "Département / No / Région    Corse-du-Sud  (2A)  [Corse]\n",
       "Superficie [en km²]                                4 014\n",
       "Population                                       118 593\n",
       "Densite [hab. /km²]                                   30\n",
       "Name: 84, dtype: object"
      ]
     },
     "execution_count": 10,
     "metadata": {},
     "output_type": "execute_result"
    }
   ],
   "source": [
    "df_regions_original.iloc[84]"
   ]
  },
  {
   "cell_type": "markdown",
   "metadata": {},
   "source": [
    "### On va travailler uniquement sur la France métropolitaine et donc virer la corse et le reste"
   ]
  },
  {
   "cell_type": "code",
   "execution_count": 11,
   "metadata": {},
   "outputs": [],
   "source": [
    "df_regions = df_regions.drop(df_regions.index[[79,84]])"
   ]
  },
  {
   "cell_type": "code",
   "execution_count": 12,
   "metadata": {},
   "outputs": [
    {
     "data": {
      "text/plain": [
       "False"
      ]
     },
     "execution_count": 12,
     "metadata": {},
     "output_type": "execute_result"
    }
   ],
   "source": [
    "~df_regions[\"Departement\"].isin(liste).any()"
   ]
  },
  {
   "cell_type": "markdown",
   "metadata": {},
   "source": [
    "### On voit que maintenant toutes les lignes sont dans la liste de 1 à 100"
   ]
  },
  {
   "cell_type": "code",
   "execution_count": 13,
   "metadata": {},
   "outputs": [
    {
     "data": {
      "text/plain": [
       "97.0"
      ]
     },
     "execution_count": 13,
     "metadata": {},
     "output_type": "execute_result"
    }
   ],
   "source": [
    "df_regions[\"Departement\"][df_regions[\"Departement\"].duplicated == True]"
   ]
  },
  {
   "cell_type": "code",
   "execution_count": 14,
   "metadata": {},
   "outputs": [
    {
     "data": {
      "text/html": [
       "<div>\n",
       "<style scoped>\n",
       "    .dataframe tbody tr th:only-of-type {\n",
       "        vertical-align: middle;\n",
       "    }\n",
       "\n",
       "    .dataframe tbody tr th {\n",
       "        vertical-align: top;\n",
       "    }\n",
       "\n",
       "    .dataframe thead th {\n",
       "        text-align: right;\n",
       "    }\n",
       "</style>\n",
       "<table border=\"1\" class=\"dataframe\">\n",
       "  <thead>\n",
       "    <tr style=\"text-align: right;\">\n",
       "      <th></th>\n",
       "      <th>Departement</th>\n",
       "      <th>Superficie [en km²]</th>\n",
       "      <th>Population</th>\n",
       "      <th>Densite [hab. /km²]</th>\n",
       "    </tr>\n",
       "  </thead>\n",
       "  <tbody>\n",
       "    <tr>\n",
       "      <th>0</th>\n",
       "      <td>97.0</td>\n",
       "      <td>86 504</td>\n",
       "      <td>230 000</td>\n",
       "      <td>4</td>\n",
       "    </tr>\n",
       "    <tr>\n",
       "      <th>89</th>\n",
       "      <td>97.0</td>\n",
       "      <td>2 512</td>\n",
       "      <td>785 200</td>\n",
       "      <td>313</td>\n",
       "    </tr>\n",
       "    <tr>\n",
       "      <th>92</th>\n",
       "      <td>97.0</td>\n",
       "      <td>1 800</td>\n",
       "      <td>453 000</td>\n",
       "      <td>265</td>\n",
       "    </tr>\n",
       "    <tr>\n",
       "      <th>94</th>\n",
       "      <td>97.0</td>\n",
       "      <td>1 128</td>\n",
       "      <td>401 000</td>\n",
       "      <td>355</td>\n",
       "    </tr>\n",
       "  </tbody>\n",
       "</table>\n",
       "</div>"
      ],
      "text/plain": [
       "    Departement Superficie [en km²] Population Densite [hab. /km²]\n",
       "0          97.0              86 504    230 000                   4\n",
       "89         97.0               2 512    785 200                 313\n",
       "92         97.0               1 800    453 000                 265\n",
       "94         97.0               1 128    401 000                 355"
      ]
     },
     "execution_count": 14,
     "metadata": {},
     "output_type": "execute_result"
    }
   ],
   "source": [
    "df_regions[df_regions[\"Departement\"]== 97]"
   ]
  },
  {
   "cell_type": "code",
   "execution_count": 15,
   "metadata": {},
   "outputs": [],
   "source": [
    "df_regions = df_regions.reset_index()"
   ]
  },
  {
   "cell_type": "code",
   "execution_count": 16,
   "metadata": {},
   "outputs": [
    {
     "data": {
      "text/html": [
       "<div>\n",
       "<style scoped>\n",
       "    .dataframe tbody tr th:only-of-type {\n",
       "        vertical-align: middle;\n",
       "    }\n",
       "\n",
       "    .dataframe tbody tr th {\n",
       "        vertical-align: top;\n",
       "    }\n",
       "\n",
       "    .dataframe thead th {\n",
       "        text-align: right;\n",
       "    }\n",
       "</style>\n",
       "<table border=\"1\" class=\"dataframe\">\n",
       "  <thead>\n",
       "    <tr style=\"text-align: right;\">\n",
       "      <th></th>\n",
       "      <th>index</th>\n",
       "      <th>Departement</th>\n",
       "      <th>Superficie [en km²]</th>\n",
       "      <th>Population</th>\n",
       "      <th>Densite [hab. /km²]</th>\n",
       "    </tr>\n",
       "  </thead>\n",
       "  <tbody>\n",
       "    <tr>\n",
       "      <th>0</th>\n",
       "      <td>0</td>\n",
       "      <td>97.0</td>\n",
       "      <td>86 504</td>\n",
       "      <td>230 000</td>\n",
       "      <td>4</td>\n",
       "    </tr>\n",
       "    <tr>\n",
       "      <th>87</th>\n",
       "      <td>89</td>\n",
       "      <td>97.0</td>\n",
       "      <td>2 512</td>\n",
       "      <td>785 200</td>\n",
       "      <td>313</td>\n",
       "    </tr>\n",
       "    <tr>\n",
       "      <th>90</th>\n",
       "      <td>92</td>\n",
       "      <td>97.0</td>\n",
       "      <td>1 800</td>\n",
       "      <td>453 000</td>\n",
       "      <td>265</td>\n",
       "    </tr>\n",
       "    <tr>\n",
       "      <th>92</th>\n",
       "      <td>94</td>\n",
       "      <td>97.0</td>\n",
       "      <td>1 128</td>\n",
       "      <td>401 000</td>\n",
       "      <td>355</td>\n",
       "    </tr>\n",
       "  </tbody>\n",
       "</table>\n",
       "</div>"
      ],
      "text/plain": [
       "   index  Departement Superficie [en km²] Population Densite [hab. /km²]\n",
       "0      0         97.0              86 504    230 000                   4\n",
       "87    89         97.0               2 512    785 200                 313\n",
       "90    92         97.0               1 800    453 000                 265\n",
       "92    94         97.0               1 128    401 000                 355"
      ]
     },
     "execution_count": 16,
     "metadata": {},
     "output_type": "execute_result"
    }
   ],
   "source": [
    "df_regions[df_regions[\"Departement\"]== 97]"
   ]
  },
  {
   "cell_type": "code",
   "execution_count": 17,
   "metadata": {},
   "outputs": [],
   "source": [
    "df_regions = df_regions.drop(index=[0,87,90,92],columns=\"index\")"
   ]
  },
  {
   "cell_type": "code",
   "execution_count": 18,
   "metadata": {},
   "outputs": [
    {
     "data": {
      "text/plain": [
       "False"
      ]
     },
     "execution_count": 18,
     "metadata": {},
     "output_type": "execute_result"
    }
   ],
   "source": [
    "df_regions[\"Departement\"].duplicated().any()"
   ]
  },
  {
   "cell_type": "markdown",
   "metadata": {},
   "source": [
    "### On n'a plus aucun row dupliqué"
   ]
  },
  {
   "cell_type": "code",
   "execution_count": 19,
   "metadata": {},
   "outputs": [],
   "source": [
    "liste = list(range(1,96))"
   ]
  },
  {
   "cell_type": "code",
   "execution_count": 20,
   "metadata": {},
   "outputs": [],
   "source": [
    "liste_departement = pd.Series(liste)"
   ]
  },
  {
   "cell_type": "code",
   "execution_count": 21,
   "metadata": {},
   "outputs": [
    {
     "data": {
      "text/plain": [
       "19    False\n",
       "dtype: bool"
      ]
     },
     "execution_count": 21,
     "metadata": {},
     "output_type": "execute_result"
    }
   ],
   "source": [
    "liste_departement.isin(df_regions[\"Departement\"])[liste_departement.isin(df_regions[\"Departement\"]) == False]"
   ]
  },
  {
   "cell_type": "code",
   "execution_count": 22,
   "metadata": {},
   "outputs": [
    {
     "data": {
      "text/plain": [
       "18    19\n",
       "19    20\n",
       "20    21\n",
       "21    22\n",
       "22    23\n",
       "23    24\n",
       "24    25\n",
       "dtype: int64"
      ]
     },
     "execution_count": 22,
     "metadata": {},
     "output_type": "execute_result"
    }
   ],
   "source": [
    "liste_departement[18:25]"
   ]
  },
  {
   "cell_type": "code",
   "execution_count": 23,
   "metadata": {},
   "outputs": [
    {
     "data": {
      "text/plain": [
       "Series([], Name: Departement, dtype: float64)"
      ]
     },
     "execution_count": 23,
     "metadata": {},
     "output_type": "execute_result"
    }
   ],
   "source": [
    "df_regions[\"Departement\"][df_regions[\"Departement\"] == 20]"
   ]
  },
  {
   "cell_type": "markdown",
   "metadata": {},
   "source": [
    "### Il manque le département numéro 20 qui a été perdu"
   ]
  },
  {
   "cell_type": "markdown",
   "metadata": {},
   "source": [
    "### On passe au formatage de la colonne sur laquelle on va join"
   ]
  },
  {
   "cell_type": "code",
   "execution_count": 24,
   "metadata": {},
   "outputs": [
    {
     "data": {
      "text/plain": [
       "Index(['Spécialistes', 'DEPARTEMENT', 'EFFECTIFS',\n",
       "       'HONORAIRES SANS DEPASSEMENT (Euros)', 'DEPASSEMENTS (Euros)',\n",
       "       'FRAIS DE DEPLACEMENT (Euros)', 'TOTAL DES HONORAIRES (Euros)'],\n",
       "      dtype='object')"
      ]
     },
     "execution_count": 24,
     "metadata": {},
     "output_type": "execute_result"
    }
   ],
   "source": [
    "df_specialistes.columns"
   ]
  },
  {
   "cell_type": "code",
   "execution_count": 25,
   "metadata": {},
   "outputs": [],
   "source": [
    "df_specialistes = df_specialistes.rename(index=str, columns={\"DEPARTEMENT\" : \"Departement\"})"
   ]
  },
  {
   "cell_type": "code",
   "execution_count": 26,
   "metadata": {},
   "outputs": [
    {
     "data": {
      "text/html": [
       "<div>\n",
       "<style scoped>\n",
       "    .dataframe tbody tr th:only-of-type {\n",
       "        vertical-align: middle;\n",
       "    }\n",
       "\n",
       "    .dataframe tbody tr th {\n",
       "        vertical-align: top;\n",
       "    }\n",
       "\n",
       "    .dataframe thead th {\n",
       "        text-align: right;\n",
       "    }\n",
       "</style>\n",
       "<table border=\"1\" class=\"dataframe\">\n",
       "  <thead>\n",
       "    <tr style=\"text-align: right;\">\n",
       "      <th></th>\n",
       "      <th>Spécialistes</th>\n",
       "      <th>Departement</th>\n",
       "      <th>EFFECTIFS</th>\n",
       "      <th>HONORAIRES SANS DEPASSEMENT (Euros)</th>\n",
       "      <th>DEPASSEMENTS (Euros)</th>\n",
       "      <th>FRAIS DE DEPLACEMENT (Euros)</th>\n",
       "      <th>TOTAL DES HONORAIRES (Euros)</th>\n",
       "    </tr>\n",
       "  </thead>\n",
       "  <tbody>\n",
       "    <tr>\n",
       "      <th>0</th>\n",
       "      <td>02- Anesthésie-réanimation chirurgicale</td>\n",
       "      <td>01- Ain</td>\n",
       "      <td>17</td>\n",
       "      <td>4.53008e+06</td>\n",
       "      <td>2.49618e+06</td>\n",
       "      <td>0</td>\n",
       "      <td>7.02626e+06</td>\n",
       "    </tr>\n",
       "    <tr>\n",
       "      <th>1</th>\n",
       "      <td>02- Anesthésie-réanimation chirurgicale</td>\n",
       "      <td>02- Aisne</td>\n",
       "      <td>19</td>\n",
       "      <td>4.98526e+06</td>\n",
       "      <td>373838</td>\n",
       "      <td>0</td>\n",
       "      <td>5.3591e+06</td>\n",
       "    </tr>\n",
       "    <tr>\n",
       "      <th>2</th>\n",
       "      <td>02- Anesthésie-réanimation chirurgicale</td>\n",
       "      <td>03- Allier</td>\n",
       "      <td>19</td>\n",
       "      <td>5.1029e+06</td>\n",
       "      <td>560979</td>\n",
       "      <td>0</td>\n",
       "      <td>5.66388e+06</td>\n",
       "    </tr>\n",
       "    <tr>\n",
       "      <th>3</th>\n",
       "      <td>02- Anesthésie-réanimation chirurgicale</td>\n",
       "      <td>04- Alpes-Hte-Provence</td>\n",
       "      <td>4</td>\n",
       "      <td>nc</td>\n",
       "      <td>nc</td>\n",
       "      <td>nc</td>\n",
       "      <td>nc</td>\n",
       "    </tr>\n",
       "    <tr>\n",
       "      <th>4</th>\n",
       "      <td>02- Anesthésie-réanimation chirurgicale</td>\n",
       "      <td>05- Hautes-Alpes</td>\n",
       "      <td>5</td>\n",
       "      <td>nc</td>\n",
       "      <td>nc</td>\n",
       "      <td>nc</td>\n",
       "      <td>nc</td>\n",
       "    </tr>\n",
       "    <tr>\n",
       "      <th>5</th>\n",
       "      <td>02- Anesthésie-réanimation chirurgicale</td>\n",
       "      <td>06- Alpes-Maritimes</td>\n",
       "      <td>110</td>\n",
       "      <td>2.48538e+07</td>\n",
       "      <td>1.08163e+07</td>\n",
       "      <td>0</td>\n",
       "      <td>3.56701e+07</td>\n",
       "    </tr>\n",
       "    <tr>\n",
       "      <th>6</th>\n",
       "      <td>02- Anesthésie-réanimation chirurgicale</td>\n",
       "      <td>07- Ardèche</td>\n",
       "      <td>23</td>\n",
       "      <td>5.27125e+06</td>\n",
       "      <td>802542</td>\n",
       "      <td>0</td>\n",
       "      <td>6.07379e+06</td>\n",
       "    </tr>\n",
       "    <tr>\n",
       "      <th>7</th>\n",
       "      <td>02- Anesthésie-réanimation chirurgicale</td>\n",
       "      <td>08- Ardennes</td>\n",
       "      <td>6</td>\n",
       "      <td>nc</td>\n",
       "      <td>nc</td>\n",
       "      <td>nc</td>\n",
       "      <td>nc</td>\n",
       "    </tr>\n",
       "    <tr>\n",
       "      <th>8</th>\n",
       "      <td>02- Anesthésie-réanimation chirurgicale</td>\n",
       "      <td>09- Ariège</td>\n",
       "      <td>0</td>\n",
       "      <td>0</td>\n",
       "      <td>0</td>\n",
       "      <td>0</td>\n",
       "      <td>0</td>\n",
       "    </tr>\n",
       "    <tr>\n",
       "      <th>9</th>\n",
       "      <td>02- Anesthésie-réanimation chirurgicale</td>\n",
       "      <td>10- Aube</td>\n",
       "      <td>12</td>\n",
       "      <td>3.69362e+06</td>\n",
       "      <td>9543.92</td>\n",
       "      <td>0</td>\n",
       "      <td>3.70317e+06</td>\n",
       "    </tr>\n",
       "    <tr>\n",
       "      <th>10</th>\n",
       "      <td>02- Anesthésie-réanimation chirurgicale</td>\n",
       "      <td>11- Aude</td>\n",
       "      <td>17</td>\n",
       "      <td>4.49699e+06</td>\n",
       "      <td>313840</td>\n",
       "      <td>0</td>\n",
       "      <td>4.81083e+06</td>\n",
       "    </tr>\n",
       "    <tr>\n",
       "      <th>11</th>\n",
       "      <td>02- Anesthésie-réanimation chirurgicale</td>\n",
       "      <td>12- Aveyron</td>\n",
       "      <td>5</td>\n",
       "      <td>nc</td>\n",
       "      <td>nc</td>\n",
       "      <td>nc</td>\n",
       "      <td>nc</td>\n",
       "    </tr>\n",
       "    <tr>\n",
       "      <th>12</th>\n",
       "      <td>02- Anesthésie-réanimation chirurgicale</td>\n",
       "      <td>13- Bouches-du-Rhône</td>\n",
       "      <td>209</td>\n",
       "      <td>4.84844e+07</td>\n",
       "      <td>3.00005e+06</td>\n",
       "      <td>0</td>\n",
       "      <td>5.14844e+07</td>\n",
       "    </tr>\n",
       "    <tr>\n",
       "      <th>13</th>\n",
       "      <td>02- Anesthésie-réanimation chirurgicale</td>\n",
       "      <td>14- Calvados</td>\n",
       "      <td>42</td>\n",
       "      <td>1.38657e+07</td>\n",
       "      <td>304614</td>\n",
       "      <td>0</td>\n",
       "      <td>1.41703e+07</td>\n",
       "    </tr>\n",
       "    <tr>\n",
       "      <th>14</th>\n",
       "      <td>02- Anesthésie-réanimation chirurgicale</td>\n",
       "      <td>15- Cantal</td>\n",
       "      <td>8</td>\n",
       "      <td>nc</td>\n",
       "      <td>nc</td>\n",
       "      <td>nc</td>\n",
       "      <td>nc</td>\n",
       "    </tr>\n",
       "    <tr>\n",
       "      <th>15</th>\n",
       "      <td>02- Anesthésie-réanimation chirurgicale</td>\n",
       "      <td>16- Charente</td>\n",
       "      <td>19</td>\n",
       "      <td>5.54598e+06</td>\n",
       "      <td>1.20756e+06</td>\n",
       "      <td>0</td>\n",
       "      <td>6.75354e+06</td>\n",
       "    </tr>\n",
       "    <tr>\n",
       "      <th>16</th>\n",
       "      <td>02- Anesthésie-réanimation chirurgicale</td>\n",
       "      <td>17- Charente-Maritime</td>\n",
       "      <td>27</td>\n",
       "      <td>8.90963e+06</td>\n",
       "      <td>1.03279e+06</td>\n",
       "      <td>0</td>\n",
       "      <td>9.94243e+06</td>\n",
       "    </tr>\n",
       "    <tr>\n",
       "      <th>17</th>\n",
       "      <td>02- Anesthésie-réanimation chirurgicale</td>\n",
       "      <td>18- Cher</td>\n",
       "      <td>10</td>\n",
       "      <td>nc</td>\n",
       "      <td>nc</td>\n",
       "      <td>nc</td>\n",
       "      <td>nc</td>\n",
       "    </tr>\n",
       "    <tr>\n",
       "      <th>18</th>\n",
       "      <td>02- Anesthésie-réanimation chirurgicale</td>\n",
       "      <td>19- Corrèze</td>\n",
       "      <td>10</td>\n",
       "      <td>nc</td>\n",
       "      <td>nc</td>\n",
       "      <td>nc</td>\n",
       "      <td>nc</td>\n",
       "    </tr>\n",
       "    <tr>\n",
       "      <th>19</th>\n",
       "      <td>02- Anesthésie-réanimation chirurgicale</td>\n",
       "      <td>2A- Corse-du-Sud</td>\n",
       "      <td>9</td>\n",
       "      <td>nc</td>\n",
       "      <td>nc</td>\n",
       "      <td>nc</td>\n",
       "      <td>nc</td>\n",
       "    </tr>\n",
       "    <tr>\n",
       "      <th>20</th>\n",
       "      <td>02- Anesthésie-réanimation chirurgicale</td>\n",
       "      <td>2B- Haute-Corse</td>\n",
       "      <td>11</td>\n",
       "      <td>3.47559e+06</td>\n",
       "      <td>78628.9</td>\n",
       "      <td>0</td>\n",
       "      <td>3.55422e+06</td>\n",
       "    </tr>\n",
       "    <tr>\n",
       "      <th>21</th>\n",
       "      <td>02- Anesthésie-réanimation chirurgicale</td>\n",
       "      <td>21- Côte-d'Or</td>\n",
       "      <td>31</td>\n",
       "      <td>9.68369e+06</td>\n",
       "      <td>2.49001e+06</td>\n",
       "      <td>0</td>\n",
       "      <td>1.21737e+07</td>\n",
       "    </tr>\n",
       "    <tr>\n",
       "      <th>22</th>\n",
       "      <td>02- Anesthésie-réanimation chirurgicale</td>\n",
       "      <td>22- Côtes-d'Armor</td>\n",
       "      <td>25</td>\n",
       "      <td>7.04476e+06</td>\n",
       "      <td>30716.7</td>\n",
       "      <td>0</td>\n",
       "      <td>7.07548e+06</td>\n",
       "    </tr>\n",
       "    <tr>\n",
       "      <th>23</th>\n",
       "      <td>02- Anesthésie-réanimation chirurgicale</td>\n",
       "      <td>23- Creuse</td>\n",
       "      <td>2</td>\n",
       "      <td>nc</td>\n",
       "      <td>nc</td>\n",
       "      <td>nc</td>\n",
       "      <td>nc</td>\n",
       "    </tr>\n",
       "    <tr>\n",
       "      <th>24</th>\n",
       "      <td>02- Anesthésie-réanimation chirurgicale</td>\n",
       "      <td>24- Dordogne</td>\n",
       "      <td>12</td>\n",
       "      <td>4.78606e+06</td>\n",
       "      <td>311590</td>\n",
       "      <td>0</td>\n",
       "      <td>5.09765e+06</td>\n",
       "    </tr>\n",
       "  </tbody>\n",
       "</table>\n",
       "</div>"
      ],
      "text/plain": [
       "                               Spécialistes             Departement  \\\n",
       "0   02- Anesthésie-réanimation chirurgicale                 01- Ain   \n",
       "1   02- Anesthésie-réanimation chirurgicale               02- Aisne   \n",
       "2   02- Anesthésie-réanimation chirurgicale              03- Allier   \n",
       "3   02- Anesthésie-réanimation chirurgicale  04- Alpes-Hte-Provence   \n",
       "4   02- Anesthésie-réanimation chirurgicale        05- Hautes-Alpes   \n",
       "5   02- Anesthésie-réanimation chirurgicale     06- Alpes-Maritimes   \n",
       "6   02- Anesthésie-réanimation chirurgicale             07- Ardèche   \n",
       "7   02- Anesthésie-réanimation chirurgicale            08- Ardennes   \n",
       "8   02- Anesthésie-réanimation chirurgicale              09- Ariège   \n",
       "9   02- Anesthésie-réanimation chirurgicale                10- Aube   \n",
       "10  02- Anesthésie-réanimation chirurgicale                11- Aude   \n",
       "11  02- Anesthésie-réanimation chirurgicale             12- Aveyron   \n",
       "12  02- Anesthésie-réanimation chirurgicale    13- Bouches-du-Rhône   \n",
       "13  02- Anesthésie-réanimation chirurgicale            14- Calvados   \n",
       "14  02- Anesthésie-réanimation chirurgicale              15- Cantal   \n",
       "15  02- Anesthésie-réanimation chirurgicale            16- Charente   \n",
       "16  02- Anesthésie-réanimation chirurgicale   17- Charente-Maritime   \n",
       "17  02- Anesthésie-réanimation chirurgicale                18- Cher   \n",
       "18  02- Anesthésie-réanimation chirurgicale             19- Corrèze   \n",
       "19  02- Anesthésie-réanimation chirurgicale        2A- Corse-du-Sud   \n",
       "20  02- Anesthésie-réanimation chirurgicale         2B- Haute-Corse   \n",
       "21  02- Anesthésie-réanimation chirurgicale           21- Côte-d'Or   \n",
       "22  02- Anesthésie-réanimation chirurgicale       22- Côtes-d'Armor   \n",
       "23  02- Anesthésie-réanimation chirurgicale              23- Creuse   \n",
       "24  02- Anesthésie-réanimation chirurgicale            24- Dordogne   \n",
       "\n",
       "    EFFECTIFS HONORAIRES SANS DEPASSEMENT (Euros) DEPASSEMENTS (Euros)  \\\n",
       "0          17                         4.53008e+06          2.49618e+06   \n",
       "1          19                         4.98526e+06               373838   \n",
       "2          19                          5.1029e+06               560979   \n",
       "3           4                                  nc                   nc   \n",
       "4           5                                  nc                   nc   \n",
       "5         110                         2.48538e+07          1.08163e+07   \n",
       "6          23                         5.27125e+06               802542   \n",
       "7           6                                  nc                   nc   \n",
       "8           0                                   0                    0   \n",
       "9          12                         3.69362e+06              9543.92   \n",
       "10         17                         4.49699e+06               313840   \n",
       "11          5                                  nc                   nc   \n",
       "12        209                         4.84844e+07          3.00005e+06   \n",
       "13         42                         1.38657e+07               304614   \n",
       "14          8                                  nc                   nc   \n",
       "15         19                         5.54598e+06          1.20756e+06   \n",
       "16         27                         8.90963e+06          1.03279e+06   \n",
       "17         10                                  nc                   nc   \n",
       "18         10                                  nc                   nc   \n",
       "19          9                                  nc                   nc   \n",
       "20         11                         3.47559e+06              78628.9   \n",
       "21         31                         9.68369e+06          2.49001e+06   \n",
       "22         25                         7.04476e+06              30716.7   \n",
       "23          2                                  nc                   nc   \n",
       "24         12                         4.78606e+06               311590   \n",
       "\n",
       "   FRAIS DE DEPLACEMENT (Euros) TOTAL DES HONORAIRES (Euros)  \n",
       "0                             0                  7.02626e+06  \n",
       "1                             0                   5.3591e+06  \n",
       "2                             0                  5.66388e+06  \n",
       "3                            nc                           nc  \n",
       "4                            nc                           nc  \n",
       "5                             0                  3.56701e+07  \n",
       "6                             0                  6.07379e+06  \n",
       "7                            nc                           nc  \n",
       "8                             0                            0  \n",
       "9                             0                  3.70317e+06  \n",
       "10                            0                  4.81083e+06  \n",
       "11                           nc                           nc  \n",
       "12                            0                  5.14844e+07  \n",
       "13                            0                  1.41703e+07  \n",
       "14                           nc                           nc  \n",
       "15                            0                  6.75354e+06  \n",
       "16                            0                  9.94243e+06  \n",
       "17                           nc                           nc  \n",
       "18                           nc                           nc  \n",
       "19                           nc                           nc  \n",
       "20                            0                  3.55422e+06  \n",
       "21                            0                  1.21737e+07  \n",
       "22                            0                  7.07548e+06  \n",
       "23                           nc                           nc  \n",
       "24                            0                  5.09765e+06  "
      ]
     },
     "execution_count": 26,
     "metadata": {},
     "output_type": "execute_result"
    }
   ],
   "source": [
    "df_specialistes.head(25)"
   ]
  },
  {
   "cell_type": "code",
   "execution_count": 27,
   "metadata": {},
   "outputs": [],
   "source": [
    "df_specialistes[\"Departement\"] = df_specialistes[\"Departement\"].map(departement_to_number)"
   ]
  },
  {
   "cell_type": "code",
   "execution_count": 28,
   "metadata": {},
   "outputs": [
    {
     "data": {
      "text/html": [
       "<div>\n",
       "<style scoped>\n",
       "    .dataframe tbody tr th:only-of-type {\n",
       "        vertical-align: middle;\n",
       "    }\n",
       "\n",
       "    .dataframe tbody tr th {\n",
       "        vertical-align: top;\n",
       "    }\n",
       "\n",
       "    .dataframe thead th {\n",
       "        text-align: right;\n",
       "    }\n",
       "</style>\n",
       "<table border=\"1\" class=\"dataframe\">\n",
       "  <thead>\n",
       "    <tr style=\"text-align: right;\">\n",
       "      <th></th>\n",
       "      <th>Spécialistes</th>\n",
       "      <th>Departement</th>\n",
       "      <th>EFFECTIFS</th>\n",
       "      <th>HONORAIRES SANS DEPASSEMENT (Euros)</th>\n",
       "      <th>DEPASSEMENTS (Euros)</th>\n",
       "      <th>FRAIS DE DEPLACEMENT (Euros)</th>\n",
       "      <th>TOTAL DES HONORAIRES (Euros)</th>\n",
       "    </tr>\n",
       "  </thead>\n",
       "  <tbody>\n",
       "    <tr>\n",
       "      <th>0</th>\n",
       "      <td>02- Anesthésie-réanimation chirurgicale</td>\n",
       "      <td>1.0</td>\n",
       "      <td>17</td>\n",
       "      <td>4.53008e+06</td>\n",
       "      <td>2.49618e+06</td>\n",
       "      <td>0</td>\n",
       "      <td>7.02626e+06</td>\n",
       "    </tr>\n",
       "    <tr>\n",
       "      <th>1</th>\n",
       "      <td>02- Anesthésie-réanimation chirurgicale</td>\n",
       "      <td>2.0</td>\n",
       "      <td>19</td>\n",
       "      <td>4.98526e+06</td>\n",
       "      <td>373838</td>\n",
       "      <td>0</td>\n",
       "      <td>5.3591e+06</td>\n",
       "    </tr>\n",
       "    <tr>\n",
       "      <th>2</th>\n",
       "      <td>02- Anesthésie-réanimation chirurgicale</td>\n",
       "      <td>3.0</td>\n",
       "      <td>19</td>\n",
       "      <td>5.1029e+06</td>\n",
       "      <td>560979</td>\n",
       "      <td>0</td>\n",
       "      <td>5.66388e+06</td>\n",
       "    </tr>\n",
       "    <tr>\n",
       "      <th>3</th>\n",
       "      <td>02- Anesthésie-réanimation chirurgicale</td>\n",
       "      <td>4.0</td>\n",
       "      <td>4</td>\n",
       "      <td>nc</td>\n",
       "      <td>nc</td>\n",
       "      <td>nc</td>\n",
       "      <td>nc</td>\n",
       "    </tr>\n",
       "    <tr>\n",
       "      <th>4</th>\n",
       "      <td>02- Anesthésie-réanimation chirurgicale</td>\n",
       "      <td>5.0</td>\n",
       "      <td>5</td>\n",
       "      <td>nc</td>\n",
       "      <td>nc</td>\n",
       "      <td>nc</td>\n",
       "      <td>nc</td>\n",
       "    </tr>\n",
       "  </tbody>\n",
       "</table>\n",
       "</div>"
      ],
      "text/plain": [
       "                              Spécialistes  Departement  EFFECTIFS  \\\n",
       "0  02- Anesthésie-réanimation chirurgicale          1.0         17   \n",
       "1  02- Anesthésie-réanimation chirurgicale          2.0         19   \n",
       "2  02- Anesthésie-réanimation chirurgicale          3.0         19   \n",
       "3  02- Anesthésie-réanimation chirurgicale          4.0          4   \n",
       "4  02- Anesthésie-réanimation chirurgicale          5.0          5   \n",
       "\n",
       "  HONORAIRES SANS DEPASSEMENT (Euros) DEPASSEMENTS (Euros)  \\\n",
       "0                         4.53008e+06          2.49618e+06   \n",
       "1                         4.98526e+06               373838   \n",
       "2                          5.1029e+06               560979   \n",
       "3                                  nc                   nc   \n",
       "4                                  nc                   nc   \n",
       "\n",
       "  FRAIS DE DEPLACEMENT (Euros) TOTAL DES HONORAIRES (Euros)  \n",
       "0                            0                  7.02626e+06  \n",
       "1                            0                   5.3591e+06  \n",
       "2                            0                  5.66388e+06  \n",
       "3                           nc                           nc  \n",
       "4                           nc                           nc  "
      ]
     },
     "execution_count": 28,
     "metadata": {},
     "output_type": "execute_result"
    }
   ],
   "source": [
    "df_specialistes.head()"
   ]
  },
  {
   "cell_type": "code",
   "execution_count": 29,
   "metadata": {},
   "outputs": [
    {
     "data": {
      "text/plain": [
       "1"
      ]
     },
     "execution_count": 29,
     "metadata": {},
     "output_type": "execute_result"
    }
   ],
   "source": [
    "df_regions.index[0]"
   ]
  },
  {
   "cell_type": "code",
   "execution_count": 30,
   "metadata": {},
   "outputs": [
    {
     "data": {
      "text/html": [
       "<div>\n",
       "<style scoped>\n",
       "    .dataframe tbody tr th:only-of-type {\n",
       "        vertical-align: middle;\n",
       "    }\n",
       "\n",
       "    .dataframe tbody tr th {\n",
       "        vertical-align: top;\n",
       "    }\n",
       "\n",
       "    .dataframe thead th {\n",
       "        text-align: right;\n",
       "    }\n",
       "</style>\n",
       "<table border=\"1\" class=\"dataframe\">\n",
       "  <thead>\n",
       "    <tr style=\"text-align: right;\">\n",
       "      <th></th>\n",
       "      <th>Departement</th>\n",
       "      <th>Superficie [en km²]</th>\n",
       "      <th>Population</th>\n",
       "      <th>Densite [hab. /km²]</th>\n",
       "    </tr>\n",
       "  </thead>\n",
       "  <tbody>\n",
       "    <tr>\n",
       "      <th>1</th>\n",
       "      <td>33.0</td>\n",
       "      <td>10 000</td>\n",
       "      <td>1 376 000</td>\n",
       "      <td>138</td>\n",
       "    </tr>\n",
       "    <tr>\n",
       "      <th>2</th>\n",
       "      <td>40.0</td>\n",
       "      <td>9 243</td>\n",
       "      <td>327 334</td>\n",
       "      <td>35</td>\n",
       "    </tr>\n",
       "    <tr>\n",
       "      <th>3</th>\n",
       "      <td>24.0</td>\n",
       "      <td>9 060</td>\n",
       "      <td>401 500</td>\n",
       "      <td>43</td>\n",
       "    </tr>\n",
       "    <tr>\n",
       "      <th>4</th>\n",
       "      <td>21.0</td>\n",
       "      <td>8 763</td>\n",
       "      <td>506 755</td>\n",
       "      <td>58</td>\n",
       "    </tr>\n",
       "    <tr>\n",
       "      <th>5</th>\n",
       "      <td>12.0</td>\n",
       "      <td>8 735</td>\n",
       "      <td>271 200</td>\n",
       "      <td>31</td>\n",
       "    </tr>\n",
       "  </tbody>\n",
       "</table>\n",
       "</div>"
      ],
      "text/plain": [
       "   Departement Superficie [en km²] Population Densite [hab. /km²]\n",
       "1         33.0              10 000  1 376 000                 138\n",
       "2         40.0               9 243    327 334                  35\n",
       "3         24.0               9 060    401 500                  43\n",
       "4         21.0               8 763    506 755                  58\n",
       "5         12.0               8 735    271 200                  31"
      ]
     },
     "execution_count": 30,
     "metadata": {},
     "output_type": "execute_result"
    }
   ],
   "source": [
    "df_regions.head()"
   ]
  },
  {
   "cell_type": "code",
   "execution_count": 31,
   "metadata": {},
   "outputs": [
    {
     "data": {
      "text/plain": [
       "96"
      ]
     },
     "execution_count": 31,
     "metadata": {},
     "output_type": "execute_result"
    }
   ],
   "source": [
    "df_regions.index[92]"
   ]
  },
  {
   "cell_type": "code",
   "execution_count": 32,
   "metadata": {},
   "outputs": [],
   "source": [
    "df_regions = df_regions.reset_index()"
   ]
  },
  {
   "cell_type": "code",
   "execution_count": 33,
   "metadata": {},
   "outputs": [],
   "source": [
    "df_regions = df_regions.drop(columns=\"index\")"
   ]
  },
  {
   "cell_type": "code",
   "execution_count": 34,
   "metadata": {},
   "outputs": [],
   "source": [
    "df_specialistes_merged = pd.merge(df_specialistes,df_regions,on=\"Departement\",how='inner')"
   ]
  },
  {
   "cell_type": "code",
   "execution_count": 35,
   "metadata": {},
   "outputs": [
    {
     "data": {
      "text/html": [
       "<div>\n",
       "<style scoped>\n",
       "    .dataframe tbody tr th:only-of-type {\n",
       "        vertical-align: middle;\n",
       "    }\n",
       "\n",
       "    .dataframe tbody tr th {\n",
       "        vertical-align: top;\n",
       "    }\n",
       "\n",
       "    .dataframe thead th {\n",
       "        text-align: right;\n",
       "    }\n",
       "</style>\n",
       "<table border=\"1\" class=\"dataframe\">\n",
       "  <thead>\n",
       "    <tr style=\"text-align: right;\">\n",
       "      <th></th>\n",
       "      <th>Spécialistes</th>\n",
       "      <th>Departement</th>\n",
       "      <th>EFFECTIFS</th>\n",
       "      <th>HONORAIRES SANS DEPASSEMENT (Euros)</th>\n",
       "      <th>DEPASSEMENTS (Euros)</th>\n",
       "      <th>FRAIS DE DEPLACEMENT (Euros)</th>\n",
       "      <th>TOTAL DES HONORAIRES (Euros)</th>\n",
       "      <th>Superficie [en km²]</th>\n",
       "      <th>Population</th>\n",
       "      <th>Densite [hab. /km²]</th>\n",
       "    </tr>\n",
       "  </thead>\n",
       "  <tbody>\n",
       "    <tr>\n",
       "      <th>0</th>\n",
       "      <td>02- Anesthésie-réanimation chirurgicale</td>\n",
       "      <td>1.0</td>\n",
       "      <td>17</td>\n",
       "      <td>4.53008e+06</td>\n",
       "      <td>2.49618e+06</td>\n",
       "      <td>0</td>\n",
       "      <td>7.02626e+06</td>\n",
       "      <td>5 762</td>\n",
       "      <td>565 000</td>\n",
       "      <td>97</td>\n",
       "    </tr>\n",
       "    <tr>\n",
       "      <th>1</th>\n",
       "      <td>20- Réanimation médicale</td>\n",
       "      <td>1.0</td>\n",
       "      <td>0</td>\n",
       "      <td>0</td>\n",
       "      <td>0</td>\n",
       "      <td>0</td>\n",
       "      <td>0</td>\n",
       "      <td>5 762</td>\n",
       "      <td>565 000</td>\n",
       "      <td>97</td>\n",
       "    </tr>\n",
       "    <tr>\n",
       "      <th>2</th>\n",
       "      <td>TOTAL ANESTHESIE REANIMATION  (02, 20)</td>\n",
       "      <td>1.0</td>\n",
       "      <td>17</td>\n",
       "      <td>4.53008e+06</td>\n",
       "      <td>2.49618e+06</td>\n",
       "      <td>0</td>\n",
       "      <td>7.02626e+06</td>\n",
       "      <td>5 762</td>\n",
       "      <td>565 000</td>\n",
       "      <td>97</td>\n",
       "    </tr>\n",
       "    <tr>\n",
       "      <th>3</th>\n",
       "      <td>03- Pathologie cardio-vasculaire</td>\n",
       "      <td>1.0</td>\n",
       "      <td>20</td>\n",
       "      <td>6.04836e+06</td>\n",
       "      <td>252877</td>\n",
       "      <td>0</td>\n",
       "      <td>6.30124e+06</td>\n",
       "      <td>5 762</td>\n",
       "      <td>565 000</td>\n",
       "      <td>97</td>\n",
       "    </tr>\n",
       "    <tr>\n",
       "      <th>4</th>\n",
       "      <td>43- Chirurgie infantile</td>\n",
       "      <td>1.0</td>\n",
       "      <td>0</td>\n",
       "      <td>0</td>\n",
       "      <td>0</td>\n",
       "      <td>0</td>\n",
       "      <td>0</td>\n",
       "      <td>5 762</td>\n",
       "      <td>565 000</td>\n",
       "      <td>97</td>\n",
       "    </tr>\n",
       "  </tbody>\n",
       "</table>\n",
       "</div>"
      ],
      "text/plain": [
       "                              Spécialistes  Departement  EFFECTIFS  \\\n",
       "0  02- Anesthésie-réanimation chirurgicale          1.0         17   \n",
       "1                 20- Réanimation médicale          1.0          0   \n",
       "2   TOTAL ANESTHESIE REANIMATION  (02, 20)          1.0         17   \n",
       "3         03- Pathologie cardio-vasculaire          1.0         20   \n",
       "4                  43- Chirurgie infantile          1.0          0   \n",
       "\n",
       "  HONORAIRES SANS DEPASSEMENT (Euros) DEPASSEMENTS (Euros)  \\\n",
       "0                         4.53008e+06          2.49618e+06   \n",
       "1                                   0                    0   \n",
       "2                         4.53008e+06          2.49618e+06   \n",
       "3                         6.04836e+06               252877   \n",
       "4                                   0                    0   \n",
       "\n",
       "  FRAIS DE DEPLACEMENT (Euros) TOTAL DES HONORAIRES (Euros)  \\\n",
       "0                            0                  7.02626e+06   \n",
       "1                            0                            0   \n",
       "2                            0                  7.02626e+06   \n",
       "3                            0                  6.30124e+06   \n",
       "4                            0                            0   \n",
       "\n",
       "  Superficie [en km²] Population Densite [hab. /km²]  \n",
       "0               5 762    565 000                  97  \n",
       "1               5 762    565 000                  97  \n",
       "2               5 762    565 000                  97  \n",
       "3               5 762    565 000                  97  \n",
       "4               5 762    565 000                  97  "
      ]
     },
     "execution_count": 35,
     "metadata": {},
     "output_type": "execute_result"
    }
   ],
   "source": [
    "df_specialistes_merged.head()"
   ]
  },
  {
   "cell_type": "markdown",
   "metadata": {},
   "source": [
    "### On n'est pas interessé par le dépassement d'honoraire par spécialité car les spécialités sont trop nombreuses. On va donc juste regarder le dépassement d'honoraires en fonction de la densité de population."
   ]
  },
  {
   "cell_type": "code",
   "execution_count": 36,
   "metadata": {},
   "outputs": [
    {
     "data": {
      "text/plain": [
       "Index(['Spécialistes', 'Departement', 'EFFECTIFS',\n",
       "       'HONORAIRES SANS DEPASSEMENT (Euros)', 'DEPASSEMENTS (Euros)',\n",
       "       'FRAIS DE DEPLACEMENT (Euros)', 'TOTAL DES HONORAIRES (Euros)'],\n",
       "      dtype='object')"
      ]
     },
     "execution_count": 36,
     "metadata": {},
     "output_type": "execute_result"
    }
   ],
   "source": [
    "df_specialistes.columns"
   ]
  },
  {
   "cell_type": "markdown",
   "metadata": {},
   "source": [
    "### On commence par virer toutes les lignes qui ont un dépassement d'honoraires nc"
   ]
  },
  {
   "cell_type": "code",
   "execution_count": 37,
   "metadata": {},
   "outputs": [
    {
     "data": {
      "text/plain": [
       "2299"
      ]
     },
     "execution_count": 37,
     "metadata": {},
     "output_type": "execute_result"
    }
   ],
   "source": [
    "df_specialistes[\"DEPASSEMENTS (Euros)\"][df_specialistes[\"DEPASSEMENTS (Euros)\"] == \"nc\"].count()"
   ]
  },
  {
   "cell_type": "code",
   "execution_count": 38,
   "metadata": {},
   "outputs": [],
   "source": [
    "Ma_serie = pd.Series([np.nan])"
   ]
  },
  {
   "cell_type": "code",
   "execution_count": 39,
   "metadata": {},
   "outputs": [
    {
     "data": {
      "text/plain": [
       "0    True\n",
       "dtype: bool"
      ]
     },
     "execution_count": 39,
     "metadata": {},
     "output_type": "execute_result"
    }
   ],
   "source": [
    "Ma_serie.isna()"
   ]
  },
  {
   "cell_type": "code",
   "execution_count": 40,
   "metadata": {},
   "outputs": [],
   "source": [
    "def traitement_depassements(texte):\n",
    "    if (texte == \"nc\"):\n",
    "        return(np.nan)\n",
    "    else:\n",
    "        return(float(texte))"
   ]
  },
  {
   "cell_type": "code",
   "execution_count": 41,
   "metadata": {},
   "outputs": [],
   "source": [
    "df_specialistes[\"DEPASSEMENTS (Euros)\"] = df_specialistes[\"DEPASSEMENTS (Euros)\"].map(traitement_depassements)"
   ]
  },
  {
   "cell_type": "code",
   "execution_count": 42,
   "metadata": {},
   "outputs": [
    {
     "data": {
      "text/html": [
       "<div>\n",
       "<style scoped>\n",
       "    .dataframe tbody tr th:only-of-type {\n",
       "        vertical-align: middle;\n",
       "    }\n",
       "\n",
       "    .dataframe tbody tr th {\n",
       "        vertical-align: top;\n",
       "    }\n",
       "\n",
       "    .dataframe thead th {\n",
       "        text-align: right;\n",
       "    }\n",
       "</style>\n",
       "<table border=\"1\" class=\"dataframe\">\n",
       "  <thead>\n",
       "    <tr style=\"text-align: right;\">\n",
       "      <th></th>\n",
       "      <th>DEPASSEMENTS (Euros)</th>\n",
       "      <th>EFFECTIFS</th>\n",
       "    </tr>\n",
       "    <tr>\n",
       "      <th>Departement</th>\n",
       "      <th></th>\n",
       "      <th></th>\n",
       "    </tr>\n",
       "  </thead>\n",
       "  <tbody>\n",
       "    <tr>\n",
       "      <th>1.0</th>\n",
       "      <td>46293197.75</td>\n",
       "      <td>1285</td>\n",
       "    </tr>\n",
       "    <tr>\n",
       "      <th>2.0</th>\n",
       "      <td>17331270.38</td>\n",
       "      <td>1407</td>\n",
       "    </tr>\n",
       "    <tr>\n",
       "      <th>3.0</th>\n",
       "      <td>18105662.01</td>\n",
       "      <td>1076</td>\n",
       "    </tr>\n",
       "    <tr>\n",
       "      <th>4.0</th>\n",
       "      <td>4725085.98</td>\n",
       "      <td>545</td>\n",
       "    </tr>\n",
       "    <tr>\n",
       "      <th>5.0</th>\n",
       "      <td>2300043.91</td>\n",
       "      <td>532</td>\n",
       "    </tr>\n",
       "  </tbody>\n",
       "</table>\n",
       "</div>"
      ],
      "text/plain": [
       "             DEPASSEMENTS (Euros)  EFFECTIFS\n",
       "Departement                                 \n",
       "1.0                   46293197.75       1285\n",
       "2.0                   17331270.38       1407\n",
       "3.0                   18105662.01       1076\n",
       "4.0                    4725085.98        545\n",
       "5.0                    2300043.91        532"
      ]
     },
     "execution_count": 42,
     "metadata": {},
     "output_type": "execute_result"
    }
   ],
   "source": [
    "df_specialistes.groupby([\"Departement\"])[\"DEPASSEMENTS (Euros)\",\"EFFECTIFS\"].sum().head()"
   ]
  },
  {
   "cell_type": "code",
   "execution_count": 43,
   "metadata": {},
   "outputs": [],
   "source": [
    "df_specialistes_merged = pd.merge(df_specialistes.groupby([\"Departement\"])[\"DEPASSEMENTS (Euros)\",\"EFFECTIFS\"].sum(),df_regions,on=\"Departement\",how='inner')"
   ]
  },
  {
   "cell_type": "code",
   "execution_count": 44,
   "metadata": {},
   "outputs": [
    {
     "data": {
      "text/html": [
       "<div>\n",
       "<style scoped>\n",
       "    .dataframe tbody tr th:only-of-type {\n",
       "        vertical-align: middle;\n",
       "    }\n",
       "\n",
       "    .dataframe tbody tr th {\n",
       "        vertical-align: top;\n",
       "    }\n",
       "\n",
       "    .dataframe thead th {\n",
       "        text-align: right;\n",
       "    }\n",
       "</style>\n",
       "<table border=\"1\" class=\"dataframe\">\n",
       "  <thead>\n",
       "    <tr style=\"text-align: right;\">\n",
       "      <th></th>\n",
       "      <th>Departement</th>\n",
       "      <th>DEPASSEMENTS (Euros)</th>\n",
       "      <th>EFFECTIFS</th>\n",
       "      <th>Superficie [en km²]</th>\n",
       "      <th>Population</th>\n",
       "      <th>Densite [hab. /km²]</th>\n",
       "    </tr>\n",
       "  </thead>\n",
       "  <tbody>\n",
       "    <tr>\n",
       "      <th>0</th>\n",
       "      <td>1.0</td>\n",
       "      <td>46293197.75</td>\n",
       "      <td>1285</td>\n",
       "      <td>5 762</td>\n",
       "      <td>565 000</td>\n",
       "      <td>97</td>\n",
       "    </tr>\n",
       "    <tr>\n",
       "      <th>1</th>\n",
       "      <td>2.0</td>\n",
       "      <td>17331270.38</td>\n",
       "      <td>1407</td>\n",
       "      <td>7 369</td>\n",
       "      <td>535 489</td>\n",
       "      <td>73</td>\n",
       "    </tr>\n",
       "    <tr>\n",
       "      <th>2</th>\n",
       "      <td>3.0</td>\n",
       "      <td>18105662.01</td>\n",
       "      <td>1076</td>\n",
       "      <td>7 340</td>\n",
       "      <td>342 284</td>\n",
       "      <td>47</td>\n",
       "    </tr>\n",
       "    <tr>\n",
       "      <th>3</th>\n",
       "      <td>4.0</td>\n",
       "      <td>4725085.98</td>\n",
       "      <td>545</td>\n",
       "      <td>6 925</td>\n",
       "      <td>153 000</td>\n",
       "      <td>22</td>\n",
       "    </tr>\n",
       "    <tr>\n",
       "      <th>4</th>\n",
       "      <td>5.0</td>\n",
       "      <td>2300043.91</td>\n",
       "      <td>532</td>\n",
       "      <td>5 549</td>\n",
       "      <td>132 000</td>\n",
       "      <td>23</td>\n",
       "    </tr>\n",
       "  </tbody>\n",
       "</table>\n",
       "</div>"
      ],
      "text/plain": [
       "   Departement  DEPASSEMENTS (Euros)  EFFECTIFS Superficie [en km²]  \\\n",
       "0          1.0           46293197.75       1285               5 762   \n",
       "1          2.0           17331270.38       1407               7 369   \n",
       "2          3.0           18105662.01       1076               7 340   \n",
       "3          4.0            4725085.98        545               6 925   \n",
       "4          5.0            2300043.91        532               5 549   \n",
       "\n",
       "  Population Densite [hab. /km²]  \n",
       "0    565 000                  97  \n",
       "1    535 489                  73  \n",
       "2    342 284                  47  \n",
       "3    153 000                  22  \n",
       "4    132 000                  23  "
      ]
     },
     "execution_count": 44,
     "metadata": {},
     "output_type": "execute_result"
    }
   ],
   "source": [
    "df_specialistes_merged.head()"
   ]
  },
  {
   "cell_type": "code",
   "execution_count": 45,
   "metadata": {},
   "outputs": [],
   "source": [
    "df_specialistes_merged[\"Depassements par effectifs\"] = df_specialistes_merged[\"DEPASSEMENTS (Euros)\"] / df_specialistes_merged[\"EFFECTIFS\"]"
   ]
  },
  {
   "cell_type": "code",
   "execution_count": 53,
   "metadata": {},
   "outputs": [
    {
     "data": {
      "text/html": [
       "<div>\n",
       "<style scoped>\n",
       "    .dataframe tbody tr th:only-of-type {\n",
       "        vertical-align: middle;\n",
       "    }\n",
       "\n",
       "    .dataframe tbody tr th {\n",
       "        vertical-align: top;\n",
       "    }\n",
       "\n",
       "    .dataframe thead th {\n",
       "        text-align: right;\n",
       "    }\n",
       "</style>\n",
       "<table border=\"1\" class=\"dataframe\">\n",
       "  <thead>\n",
       "    <tr style=\"text-align: right;\">\n",
       "      <th></th>\n",
       "      <th>Departement</th>\n",
       "      <th>DEPASSEMENTS (Euros)</th>\n",
       "      <th>EFFECTIFS</th>\n",
       "      <th>Superficie [en km²]</th>\n",
       "      <th>Population</th>\n",
       "      <th>Densite [hab. /km²]</th>\n",
       "      <th>Depassements par effectifs</th>\n",
       "    </tr>\n",
       "  </thead>\n",
       "  <tbody>\n",
       "    <tr>\n",
       "      <th>73</th>\n",
       "      <td>75.0</td>\n",
       "      <td>2.051803e+09</td>\n",
       "      <td>21459</td>\n",
       "      <td>105</td>\n",
       "      <td>2 166 200</td>\n",
       "      <td>20 433</td>\n",
       "      <td>95615.032085</td>\n",
       "    </tr>\n",
       "    <tr>\n",
       "      <th>90</th>\n",
       "      <td>92.0</td>\n",
       "      <td>5.879745e+08</td>\n",
       "      <td>7345</td>\n",
       "      <td>176</td>\n",
       "      <td>1 517 000</td>\n",
       "      <td>8 619</td>\n",
       "      <td>80050.987941</td>\n",
       "    </tr>\n",
       "    <tr>\n",
       "      <th>67</th>\n",
       "      <td>69.0</td>\n",
       "      <td>7.375368e+08</td>\n",
       "      <td>9553</td>\n",
       "      <td>3 249</td>\n",
       "      <td>1 667 500</td>\n",
       "      <td>513</td>\n",
       "      <td>77204.734586</td>\n",
       "    </tr>\n",
       "    <tr>\n",
       "      <th>76</th>\n",
       "      <td>78.0</td>\n",
       "      <td>3.715918e+08</td>\n",
       "      <td>5392</td>\n",
       "      <td>2 284</td>\n",
       "      <td>1 395 000</td>\n",
       "      <td>611</td>\n",
       "      <td>68915.397450</td>\n",
       "    </tr>\n",
       "    <tr>\n",
       "      <th>93</th>\n",
       "      <td>95.0</td>\n",
       "      <td>2.036954e+08</td>\n",
       "      <td>3588</td>\n",
       "      <td>1 246</td>\n",
       "      <td>1 105 464</td>\n",
       "      <td>887</td>\n",
       "      <td>56771.280769</td>\n",
       "    </tr>\n",
       "  </tbody>\n",
       "</table>\n",
       "</div>"
      ],
      "text/plain": [
       "    Departement  DEPASSEMENTS (Euros)  EFFECTIFS Superficie [en km²]  \\\n",
       "73         75.0          2.051803e+09      21459                 105   \n",
       "90         92.0          5.879745e+08       7345                 176   \n",
       "67         69.0          7.375368e+08       9553               3 249   \n",
       "76         78.0          3.715918e+08       5392               2 284   \n",
       "93         95.0          2.036954e+08       3588               1 246   \n",
       "\n",
       "   Population Densite [hab. /km²]  Depassements par effectifs  \n",
       "73  2 166 200              20 433                95615.032085  \n",
       "90  1 517 000               8 619                80050.987941  \n",
       "67  1 667 500                 513                77204.734586  \n",
       "76  1 395 000                 611                68915.397450  \n",
       "93  1 105 464                 887                56771.280769  "
      ]
     },
     "execution_count": 53,
     "metadata": {},
     "output_type": "execute_result"
    }
   ],
   "source": [
    "df_specialistes_merged.sort_values(by=[\"Depassements par effectifs\"],ascending=False).head()\n",
    " "
   ]
  },
  {
   "cell_type": "code",
   "execution_count": 54,
   "metadata": {},
   "outputs": [
    {
     "data": {
      "text/plain": [
       "Index(['Departement', 'DEPASSEMENTS (Euros)', 'EFFECTIFS',\n",
       "       'Superficie [en km²]', 'Population', 'Densite [hab. /km²]',\n",
       "       'Depassements par effectifs'],\n",
       "      dtype='object')"
      ]
     },
     "execution_count": 54,
     "metadata": {},
     "output_type": "execute_result"
    }
   ],
   "source": [
    "df_specialistes_merged.columns"
   ]
  },
  {
   "cell_type": "code",
   "execution_count": 55,
   "metadata": {},
   "outputs": [],
   "source": [
    "def traitement_depassements(texte):\n",
    "    if (texte == \"nc\"):\n",
    "        return(np.nan)\n",
    "    else:\n",
    "        return(float(texte))"
   ]
  },
  {
   "cell_type": "code",
   "execution_count": 56,
   "metadata": {},
   "outputs": [
    {
     "data": {
      "text/plain": [
       "92    5 220\n",
       "Name: Densite [hab. /km²], dtype: object"
      ]
     },
     "execution_count": 56,
     "metadata": {},
     "output_type": "execute_result"
    }
   ],
   "source": [
    "df_specialistes_merged[\"Densite [hab. /km²]\"][df_specialistes_merged[\"Densite [hab. /km²]\"] == '5\\xa0220']"
   ]
  },
  {
   "cell_type": "code",
   "execution_count": 57,
   "metadata": {},
   "outputs": [
    {
     "data": {
      "text/plain": [
       "Departement                            94\n",
       "DEPASSEMENTS (Euros)          2.48038e+08\n",
       "EFFECTIFS                            4626\n",
       "Superficie [en km²]                   245\n",
       "Population                      1 279 000\n",
       "Densite [hab. /km²]                 5 220\n",
       "Depassements par effectifs        53618.3\n",
       "Name: 92, dtype: object"
      ]
     },
     "execution_count": 57,
     "metadata": {},
     "output_type": "execute_result"
    }
   ],
   "source": [
    "df_specialistes_merged.iloc[92]"
   ]
  },
  {
   "cell_type": "code",
   "execution_count": 58,
   "metadata": {},
   "outputs": [
    {
     "data": {
      "text/html": [
       "<div>\n",
       "<style scoped>\n",
       "    .dataframe tbody tr th:only-of-type {\n",
       "        vertical-align: middle;\n",
       "    }\n",
       "\n",
       "    .dataframe tbody tr th {\n",
       "        vertical-align: top;\n",
       "    }\n",
       "\n",
       "    .dataframe thead th {\n",
       "        text-align: right;\n",
       "    }\n",
       "</style>\n",
       "<table border=\"1\" class=\"dataframe\">\n",
       "  <thead>\n",
       "    <tr style=\"text-align: right;\">\n",
       "      <th></th>\n",
       "      <th>Departement</th>\n",
       "      <th>DEPASSEMENTS (Euros)</th>\n",
       "      <th>EFFECTIFS</th>\n",
       "      <th>Superficie [en km²]</th>\n",
       "      <th>Population</th>\n",
       "      <th>Densite [hab. /km²]</th>\n",
       "      <th>Depassements par effectifs</th>\n",
       "    </tr>\n",
       "  </thead>\n",
       "  <tbody>\n",
       "    <tr>\n",
       "      <th>73</th>\n",
       "      <td>75.0</td>\n",
       "      <td>2.051803e+09</td>\n",
       "      <td>21459</td>\n",
       "      <td>105</td>\n",
       "      <td>2 166 200</td>\n",
       "      <td>20 433</td>\n",
       "      <td>95615.032085</td>\n",
       "    </tr>\n",
       "    <tr>\n",
       "      <th>90</th>\n",
       "      <td>92.0</td>\n",
       "      <td>5.879745e+08</td>\n",
       "      <td>7345</td>\n",
       "      <td>176</td>\n",
       "      <td>1 517 000</td>\n",
       "      <td>8 619</td>\n",
       "      <td>80050.987941</td>\n",
       "    </tr>\n",
       "    <tr>\n",
       "      <th>67</th>\n",
       "      <td>69.0</td>\n",
       "      <td>7.375368e+08</td>\n",
       "      <td>9553</td>\n",
       "      <td>3 249</td>\n",
       "      <td>1 667 500</td>\n",
       "      <td>513</td>\n",
       "      <td>77204.734586</td>\n",
       "    </tr>\n",
       "    <tr>\n",
       "      <th>76</th>\n",
       "      <td>78.0</td>\n",
       "      <td>3.715918e+08</td>\n",
       "      <td>5392</td>\n",
       "      <td>2 284</td>\n",
       "      <td>1 395 000</td>\n",
       "      <td>611</td>\n",
       "      <td>68915.397450</td>\n",
       "    </tr>\n",
       "    <tr>\n",
       "      <th>93</th>\n",
       "      <td>95.0</td>\n",
       "      <td>2.036954e+08</td>\n",
       "      <td>3588</td>\n",
       "      <td>1 246</td>\n",
       "      <td>1 105 464</td>\n",
       "      <td>887</td>\n",
       "      <td>56771.280769</td>\n",
       "    </tr>\n",
       "  </tbody>\n",
       "</table>\n",
       "</div>"
      ],
      "text/plain": [
       "    Departement  DEPASSEMENTS (Euros)  EFFECTIFS Superficie [en km²]  \\\n",
       "73         75.0          2.051803e+09      21459                 105   \n",
       "90         92.0          5.879745e+08       7345                 176   \n",
       "67         69.0          7.375368e+08       9553               3 249   \n",
       "76         78.0          3.715918e+08       5392               2 284   \n",
       "93         95.0          2.036954e+08       3588               1 246   \n",
       "\n",
       "   Population Densite [hab. /km²]  Depassements par effectifs  \n",
       "73  2 166 200              20 433                95615.032085  \n",
       "90  1 517 000               8 619                80050.987941  \n",
       "67  1 667 500                 513                77204.734586  \n",
       "76  1 395 000                 611                68915.397450  \n",
       "93  1 105 464                 887                56771.280769  "
      ]
     },
     "execution_count": 58,
     "metadata": {},
     "output_type": "execute_result"
    }
   ],
   "source": [
    "df_specialistes_merged.sort_values(by=[\"Depassements par effectifs\"],ascending=False).head()"
   ]
  },
  {
   "cell_type": "code",
   "execution_count": 60,
   "metadata": {},
   "outputs": [
    {
     "data": {
      "text/plain": [
       "<matplotlib.collections.PathCollection at 0x7fca9b3b9eb8>"
      ]
     },
     "execution_count": 60,
     "metadata": {},
     "output_type": "execute_result"
    },
    {
     "data": {
      "image/png": "[encoded data removed]",
      "text/plain": [
       "<Figure size 432x288 with 1 Axes>"
      ]
     },
     "metadata": {
      "needs_background": "light"
     },
     "output_type": "display_data"
    }
   ],
   "source": [
    "import matplotlib.pyplot as plt\n",
    "\n",
    "plt.figure()\n",
    "x = df_specialistes_merged[\"Densite [hab. /km²]\"]\n",
    "y = df_specialistes_merged[\"Depassements par effectifs\"]\n",
    "\n",
    "plt.scatter(x,y)"
   ]
  }
 ],
 "metadata": {
  "kernelspec": {
   "display_name": "Python 3",
   "language": "python",
   "name": "python3"
  },
  "language_info": {
   "codemirror_mode": {
    "name": "ipython",
    "version": 3
   },
   "file_extension": ".py",
   "mimetype": "text/x-python",
   "name": "python",
   "nbconvert_exporter": "python",
   "pygments_lexer": "ipython3",
   "version": "3.7.0"
  }
 },
 "nbformat": 4,
 "nbformat_minor": 2
}
