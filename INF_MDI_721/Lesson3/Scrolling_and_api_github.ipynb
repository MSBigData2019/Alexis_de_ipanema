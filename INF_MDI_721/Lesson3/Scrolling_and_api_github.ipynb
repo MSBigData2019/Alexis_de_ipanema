{
 "cells": [
  {
   "cell_type": "code",
   "execution_count": 10,
   "metadata": {},
   "outputs": [],
   "source": [
    "\n",
    "import requests\n",
    "import unittest\n",
    "import re\n",
    "from bs4 import BeautifulSoup\n",
    "import pandas as pd\n",
    "from requests.auth import HTTPBasicAuth\n",
    "\n",
    "\n",
    "token_api = \"f91adda2608b600e5e046e313062f335fa4da9f1\"\n",
    "header = {'Authorization': 'token %s' % token_api}\n",
    "\n",
    "url_contributeurs = \"https://gist.github.com/paulmillr/2657075\"\n",
    "api_url = \"https://api.github.com/users/\"\n",
    "\n",
    "def getBestContributors(url):\n",
    "    result = requests.get(url)\n",
    "    result.status_code\n",
    "    contributors=[]\n",
    "    if result.status_code == 200:\n",
    "        soup= BeautifulSoup(result.content, \"html.parser\")\n",
    "        table=soup.find(\"table\")\n",
    "        trs=table.findAll(\"tr\")[1:]\n",
    "        for tr in trs: \n",
    "            td= tr.findAll(\"td\")[0]\n",
    "            a= td.find(\"a\")\n",
    "            contributors.append(a.text)\n",
    "    return contributors\n"
   ]
  },
  {
   "cell_type": "code",
   "execution_count": 11,
   "metadata": {},
   "outputs": [],
   "source": [
    "contributeurs = getBestContributors(url_contributeurs)"
   ]
  },
  {
   "cell_type": "code",
   "execution_count": 22,
   "metadata": {},
   "outputs": [],
   "source": [
    "stars_moyenne_contributeurs=[]\n",
    "\n",
    "for contributeur in contributeurs[0:3]:\n",
    "    result = requests.get(api_url+contributeur+'/repos', headers=header)\n",
    "    nombre_repos = len(result.json())\n",
    "    stars_repo_liste = []\n",
    "    for repo in result.json():\n",
    "        stars_repo_liste.append(repo[\"stargazers_count\"])\n",
    "    moyenne_stars_repos = sum(stars_repo_liste)/nombre_repos\n",
    "    stars_moyenne_contributeurs.append((contributeur,moyenne_stars_repos))\n",
    "        "
   ]
  },
  {
   "cell_type": "code",
   "execution_count": 23,
   "metadata": {},
   "outputs": [
    {
     "data": {
      "text/plain": [
       "[('fabpot', 28.233333333333334), ('andrew', 4.5), ('taylorotwell', 5.8)]"
      ]
     },
     "execution_count": 23,
     "metadata": {},
     "output_type": "execute_result"
    }
   ],
   "source": [
    "stars_moyenne_contributeurs"
   ]
  },
  {
   "cell_type": "markdown",
   "metadata": {},
   "source": [
    "### On ne l'a fait que pour les trois premiers contributeurs pour que la requete ne prenne pas trop de temps"
   ]
  },
  {
   "cell_type": "code",
   "execution_count": null,
   "metadata": {},
   "outputs": [],
   "source": []
  }
 ],
 "metadata": {
  "kernelspec": {
   "display_name": "Python 3",
   "language": "python",
   "name": "python3"
  },
  "language_info": {
   "codemirror_mode": {
    "name": "ipython",
    "version": 3
   },
   "file_extension": ".py",
   "mimetype": "text/x-python",
   "name": "python",
   "nbconvert_exporter": "python",
   "pygments_lexer": "ipython3",
   "version": "3.7.0"
  }
 },
 "nbformat": 4,
 "nbformat_minor": 2
}
